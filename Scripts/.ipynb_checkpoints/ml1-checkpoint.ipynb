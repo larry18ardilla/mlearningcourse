{
 "cells": [
  {
   "cell_type": "markdown",
   "metadata": {
    "collapsed": true
   },
   "source": [
    "# Carga de datos a través de la función read_csv"
   ]
  },
  {
   "cell_type": "code",
   "execution_count": 37,
   "metadata": {
    "collapsed": true
   },
   "outputs": [],
   "source": [
    "import pandas as pd"
   ]
  },
  {
   "cell_type": "code",
   "execution_count": 38,
   "metadata": {
    "collapsed": true
   },
   "outputs": [],
   "source": [
    "mainpath = \"/Users/Pedro/mlearningcourse/datasets\"\n",
    "filename = \"titanic/titanic3.csv\"\n",
    "fullpath = mainpath + \"/\" + filename"
   ]
  },
  {
   "cell_type": "code",
   "execution_count": 39,
   "metadata": {
    "collapsed": false,
    "scrolled": true
   },
   "outputs": [],
   "source": [
    "data = pd.read_csv(fullpath)"
   ]
  },
  {
   "cell_type": "code",
   "execution_count": 40,
   "metadata": {
    "collapsed": false
   },
   "outputs": [
    {
     "data": {
      "text/html": [
       "<div>\n",
       "<table border=\"1\" class=\"dataframe\">\n",
       "  <thead>\n",
       "    <tr style=\"text-align: right;\">\n",
       "      <th></th>\n",
       "      <th>pclass</th>\n",
       "      <th>survived</th>\n",
       "      <th>name</th>\n",
       "      <th>sex</th>\n",
       "      <th>age</th>\n",
       "      <th>sibsp</th>\n",
       "      <th>parch</th>\n",
       "      <th>ticket</th>\n",
       "      <th>fare</th>\n",
       "      <th>cabin</th>\n",
       "      <th>embarked</th>\n",
       "      <th>boat</th>\n",
       "      <th>body</th>\n",
       "      <th>home.dest</th>\n",
       "    </tr>\n",
       "  </thead>\n",
       "  <tbody>\n",
       "    <tr>\n",
       "      <th>0</th>\n",
       "      <td>1</td>\n",
       "      <td>1</td>\n",
       "      <td>Allen, Miss. Elisabeth Walton</td>\n",
       "      <td>female</td>\n",
       "      <td>29.0000</td>\n",
       "      <td>0</td>\n",
       "      <td>0</td>\n",
       "      <td>24160</td>\n",
       "      <td>211.3375</td>\n",
       "      <td>B5</td>\n",
       "      <td>S</td>\n",
       "      <td>2</td>\n",
       "      <td>NaN</td>\n",
       "      <td>St Louis, MO</td>\n",
       "    </tr>\n",
       "    <tr>\n",
       "      <th>1</th>\n",
       "      <td>1</td>\n",
       "      <td>1</td>\n",
       "      <td>Allison, Master. Hudson Trevor</td>\n",
       "      <td>male</td>\n",
       "      <td>0.9167</td>\n",
       "      <td>1</td>\n",
       "      <td>2</td>\n",
       "      <td>113781</td>\n",
       "      <td>151.5500</td>\n",
       "      <td>C22 C26</td>\n",
       "      <td>S</td>\n",
       "      <td>11</td>\n",
       "      <td>NaN</td>\n",
       "      <td>Montreal, PQ / Chesterville, ON</td>\n",
       "    </tr>\n",
       "    <tr>\n",
       "      <th>2</th>\n",
       "      <td>1</td>\n",
       "      <td>0</td>\n",
       "      <td>Allison, Miss. Helen Loraine</td>\n",
       "      <td>female</td>\n",
       "      <td>2.0000</td>\n",
       "      <td>1</td>\n",
       "      <td>2</td>\n",
       "      <td>113781</td>\n",
       "      <td>151.5500</td>\n",
       "      <td>C22 C26</td>\n",
       "      <td>S</td>\n",
       "      <td>NaN</td>\n",
       "      <td>NaN</td>\n",
       "      <td>Montreal, PQ / Chesterville, ON</td>\n",
       "    </tr>\n",
       "    <tr>\n",
       "      <th>3</th>\n",
       "      <td>1</td>\n",
       "      <td>0</td>\n",
       "      <td>Allison, Mr. Hudson Joshua Creighton</td>\n",
       "      <td>male</td>\n",
       "      <td>30.0000</td>\n",
       "      <td>1</td>\n",
       "      <td>2</td>\n",
       "      <td>113781</td>\n",
       "      <td>151.5500</td>\n",
       "      <td>C22 C26</td>\n",
       "      <td>S</td>\n",
       "      <td>NaN</td>\n",
       "      <td>135.0</td>\n",
       "      <td>Montreal, PQ / Chesterville, ON</td>\n",
       "    </tr>\n",
       "    <tr>\n",
       "      <th>4</th>\n",
       "      <td>1</td>\n",
       "      <td>0</td>\n",
       "      <td>Allison, Mrs. Hudson J C (Bessie Waldo Daniels)</td>\n",
       "      <td>female</td>\n",
       "      <td>25.0000</td>\n",
       "      <td>1</td>\n",
       "      <td>2</td>\n",
       "      <td>113781</td>\n",
       "      <td>151.5500</td>\n",
       "      <td>C22 C26</td>\n",
       "      <td>S</td>\n",
       "      <td>NaN</td>\n",
       "      <td>NaN</td>\n",
       "      <td>Montreal, PQ / Chesterville, ON</td>\n",
       "    </tr>\n",
       "  </tbody>\n",
       "</table>\n",
       "</div>"
      ],
      "text/plain": [
       "   pclass  survived                                             name     sex  \\\n",
       "0       1         1                    Allen, Miss. Elisabeth Walton  female   \n",
       "1       1         1                   Allison, Master. Hudson Trevor    male   \n",
       "2       1         0                     Allison, Miss. Helen Loraine  female   \n",
       "3       1         0             Allison, Mr. Hudson Joshua Creighton    male   \n",
       "4       1         0  Allison, Mrs. Hudson J C (Bessie Waldo Daniels)  female   \n",
       "\n",
       "       age  sibsp  parch  ticket      fare    cabin embarked boat   body  \\\n",
       "0  29.0000      0      0   24160  211.3375       B5        S    2    NaN   \n",
       "1   0.9167      1      2  113781  151.5500  C22 C26        S   11    NaN   \n",
       "2   2.0000      1      2  113781  151.5500  C22 C26        S  NaN    NaN   \n",
       "3  30.0000      1      2  113781  151.5500  C22 C26        S  NaN  135.0   \n",
       "4  25.0000      1      2  113781  151.5500  C22 C26        S  NaN    NaN   \n",
       "\n",
       "                         home.dest  \n",
       "0                     St Louis, MO  \n",
       "1  Montreal, PQ / Chesterville, ON  \n",
       "2  Montreal, PQ / Chesterville, ON  \n",
       "3  Montreal, PQ / Chesterville, ON  \n",
       "4  Montreal, PQ / Chesterville, ON  "
      ]
     },
     "execution_count": 40,
     "metadata": {},
     "output_type": "execute_result"
    }
   ],
   "source": [
    "data.head()"
   ]
  },
  {
   "cell_type": "raw",
   "metadata": {
    "collapsed": true
   },
   "source": [
    "# Ejemplo de los parámetros de la función read_csv\n",
    "read.csv(filepath=\"/Users/Pedro/mlearningcourse/datasets/titanic/titanic3.csv\", \n",
    "        sep = \",\", dtype={\"ingresos\":np.float64, \"edad\":np.int32}, header=0, names={\"ingresos\", \"edad\"},\n",
    "        skiprows=12, index_col=None, skip_blank_lines=False, na_filter=True)"
   ]
  },
  {
   "cell_type": "markdown",
   "metadata": {
    "collapsed": true
   },
   "source": [
    "# CARGA DE DATOS A TRAVÉS DE LA FUNCIÓN OPEN"
   ]
  },
  {
   "cell_type": "code",
   "execution_count": 41,
   "metadata": {
    "collapsed": false
   },
   "outputs": [],
   "source": [
    "data3 = open(mainpath + \"/\" + \"customer-churn-model/Customer Churn Model.txt\", \"r\")"
   ]
  },
  {
   "cell_type": "code",
   "execution_count": 42,
   "metadata": {
    "collapsed": false
   },
   "outputs": [
    {
     "data": {
      "text/plain": [
       "['State',\n",
       " 'Account Length',\n",
       " 'Area Code',\n",
       " 'Phone',\n",
       " \"Int'l Plan\",\n",
       " 'VMail Plan',\n",
       " 'VMail Message',\n",
       " 'Day Mins',\n",
       " 'Day Calls',\n",
       " 'Day Charge',\n",
       " 'Eve Mins',\n",
       " 'Eve Calls',\n",
       " 'Eve Charge',\n",
       " 'Night Mins',\n",
       " 'Night Calls',\n",
       " 'Night Charge',\n",
       " 'Intl Mins',\n",
       " 'Intl Calls',\n",
       " 'Intl Charge',\n",
       " 'CustServ Calls',\n",
       " 'Churn?']"
      ]
     },
     "execution_count": 42,
     "metadata": {},
     "output_type": "execute_result"
    }
   ],
   "source": [
    "cols = data3.readline().strip().split(\",\")\n",
    "cols"
   ]
  },
  {
   "cell_type": "code",
   "execution_count": 43,
   "metadata": {
    "collapsed": false
   },
   "outputs": [
    {
     "data": {
      "text/plain": [
       "21"
      ]
     },
     "execution_count": 43,
     "metadata": {},
     "output_type": "execute_result"
    }
   ],
   "source": [
    "n_cols = len(cols)\n",
    "n_cols"
   ]
  },
  {
   "cell_type": "code",
   "execution_count": 44,
   "metadata": {
    "collapsed": false
   },
   "outputs": [
    {
     "data": {
      "text/plain": [
       "{'Account Length': [],\n",
       " 'Area Code': [],\n",
       " 'Churn?': [],\n",
       " 'CustServ Calls': [],\n",
       " 'Day Calls': [],\n",
       " 'Day Charge': [],\n",
       " 'Day Mins': [],\n",
       " 'Eve Calls': [],\n",
       " 'Eve Charge': [],\n",
       " 'Eve Mins': [],\n",
       " \"Int'l Plan\": [],\n",
       " 'Intl Calls': [],\n",
       " 'Intl Charge': [],\n",
       " 'Intl Mins': [],\n",
       " 'Night Calls': [],\n",
       " 'Night Charge': [],\n",
       " 'Night Mins': [],\n",
       " 'Phone': [],\n",
       " 'State': [],\n",
       " 'VMail Message': [],\n",
       " 'VMail Plan': []}"
      ]
     },
     "execution_count": 44,
     "metadata": {},
     "output_type": "execute_result"
    }
   ],
   "source": [
    "counter = 0\n",
    "main_dic = {}\n",
    "for col in cols:\n",
    "    main_dic[col] = []\n",
    "\n",
    "main_dic"
   ]
  },
  {
   "cell_type": "code",
   "execution_count": 45,
   "metadata": {
    "collapsed": false
   },
   "outputs": [
    {
     "name": "stdout",
     "output_type": "stream",
     "text": [
      "El data set tiene 3333 filas y 21 columnas\n"
     ]
    }
   ],
   "source": [
    "for line in data3:\n",
    "    values = line.strip().split(\",\")\n",
    "    for i in range(len(cols)):\n",
    "        main_dic[cols[i]].append(values[i])\n",
    "    counter += 1\n",
    "    \n",
    "print(\"El data set tiene %d filas y %d columnas\"%(counter, n_cols))"
   ]
  },
  {
   "cell_type": "code",
   "execution_count": 46,
   "metadata": {
    "collapsed": false
   },
   "outputs": [
    {
     "data": {
      "text/html": [
       "<div>\n",
       "<table border=\"1\" class=\"dataframe\">\n",
       "  <thead>\n",
       "    <tr style=\"text-align: right;\">\n",
       "      <th></th>\n",
       "      <th>Account Length</th>\n",
       "      <th>Area Code</th>\n",
       "      <th>Churn?</th>\n",
       "      <th>CustServ Calls</th>\n",
       "      <th>Day Calls</th>\n",
       "      <th>Day Charge</th>\n",
       "      <th>Day Mins</th>\n",
       "      <th>Eve Calls</th>\n",
       "      <th>Eve Charge</th>\n",
       "      <th>Eve Mins</th>\n",
       "      <th>...</th>\n",
       "      <th>Intl Calls</th>\n",
       "      <th>Intl Charge</th>\n",
       "      <th>Intl Mins</th>\n",
       "      <th>Night Calls</th>\n",
       "      <th>Night Charge</th>\n",
       "      <th>Night Mins</th>\n",
       "      <th>Phone</th>\n",
       "      <th>State</th>\n",
       "      <th>VMail Message</th>\n",
       "      <th>VMail Plan</th>\n",
       "    </tr>\n",
       "  </thead>\n",
       "  <tbody>\n",
       "    <tr>\n",
       "      <th>0</th>\n",
       "      <td>128</td>\n",
       "      <td>415</td>\n",
       "      <td>False.</td>\n",
       "      <td>1</td>\n",
       "      <td>110</td>\n",
       "      <td>45.070000</td>\n",
       "      <td>265.100000</td>\n",
       "      <td>99</td>\n",
       "      <td>16.780000</td>\n",
       "      <td>197.400000</td>\n",
       "      <td>...</td>\n",
       "      <td>3</td>\n",
       "      <td>2.700000</td>\n",
       "      <td>10.000000</td>\n",
       "      <td>91</td>\n",
       "      <td>11.010000</td>\n",
       "      <td>244.700000</td>\n",
       "      <td>382-4657</td>\n",
       "      <td>KS</td>\n",
       "      <td>25</td>\n",
       "      <td>yes</td>\n",
       "    </tr>\n",
       "    <tr>\n",
       "      <th>1</th>\n",
       "      <td>107</td>\n",
       "      <td>415</td>\n",
       "      <td>False.</td>\n",
       "      <td>1</td>\n",
       "      <td>123</td>\n",
       "      <td>27.470000</td>\n",
       "      <td>161.600000</td>\n",
       "      <td>103</td>\n",
       "      <td>16.620000</td>\n",
       "      <td>195.500000</td>\n",
       "      <td>...</td>\n",
       "      <td>3</td>\n",
       "      <td>3.700000</td>\n",
       "      <td>13.700000</td>\n",
       "      <td>103</td>\n",
       "      <td>11.450000</td>\n",
       "      <td>254.400000</td>\n",
       "      <td>371-7191</td>\n",
       "      <td>OH</td>\n",
       "      <td>26</td>\n",
       "      <td>yes</td>\n",
       "    </tr>\n",
       "    <tr>\n",
       "      <th>2</th>\n",
       "      <td>137</td>\n",
       "      <td>415</td>\n",
       "      <td>False.</td>\n",
       "      <td>0</td>\n",
       "      <td>114</td>\n",
       "      <td>41.380000</td>\n",
       "      <td>243.400000</td>\n",
       "      <td>110</td>\n",
       "      <td>10.300000</td>\n",
       "      <td>121.200000</td>\n",
       "      <td>...</td>\n",
       "      <td>5</td>\n",
       "      <td>3.290000</td>\n",
       "      <td>12.200000</td>\n",
       "      <td>104</td>\n",
       "      <td>7.320000</td>\n",
       "      <td>162.600000</td>\n",
       "      <td>358-1921</td>\n",
       "      <td>NJ</td>\n",
       "      <td>0</td>\n",
       "      <td>no</td>\n",
       "    </tr>\n",
       "    <tr>\n",
       "      <th>3</th>\n",
       "      <td>84</td>\n",
       "      <td>408</td>\n",
       "      <td>False.</td>\n",
       "      <td>2</td>\n",
       "      <td>71</td>\n",
       "      <td>50.900000</td>\n",
       "      <td>299.400000</td>\n",
       "      <td>88</td>\n",
       "      <td>5.260000</td>\n",
       "      <td>61.900000</td>\n",
       "      <td>...</td>\n",
       "      <td>7</td>\n",
       "      <td>1.780000</td>\n",
       "      <td>6.600000</td>\n",
       "      <td>89</td>\n",
       "      <td>8.860000</td>\n",
       "      <td>196.900000</td>\n",
       "      <td>375-9999</td>\n",
       "      <td>OH</td>\n",
       "      <td>0</td>\n",
       "      <td>no</td>\n",
       "    </tr>\n",
       "    <tr>\n",
       "      <th>4</th>\n",
       "      <td>75</td>\n",
       "      <td>415</td>\n",
       "      <td>False.</td>\n",
       "      <td>3</td>\n",
       "      <td>113</td>\n",
       "      <td>28.340000</td>\n",
       "      <td>166.700000</td>\n",
       "      <td>122</td>\n",
       "      <td>12.610000</td>\n",
       "      <td>148.300000</td>\n",
       "      <td>...</td>\n",
       "      <td>3</td>\n",
       "      <td>2.730000</td>\n",
       "      <td>10.100000</td>\n",
       "      <td>121</td>\n",
       "      <td>8.410000</td>\n",
       "      <td>186.900000</td>\n",
       "      <td>330-6626</td>\n",
       "      <td>OK</td>\n",
       "      <td>0</td>\n",
       "      <td>no</td>\n",
       "    </tr>\n",
       "  </tbody>\n",
       "</table>\n",
       "<p>5 rows × 21 columns</p>\n",
       "</div>"
      ],
      "text/plain": [
       "  Account Length Area Code  Churn? CustServ Calls Day Calls Day Charge  \\\n",
       "0            128       415  False.              1       110  45.070000   \n",
       "1            107       415  False.              1       123  27.470000   \n",
       "2            137       415  False.              0       114  41.380000   \n",
       "3             84       408  False.              2        71  50.900000   \n",
       "4             75       415  False.              3       113  28.340000   \n",
       "\n",
       "     Day Mins Eve Calls Eve Charge    Eve Mins    ...     Intl Calls  \\\n",
       "0  265.100000        99  16.780000  197.400000    ...              3   \n",
       "1  161.600000       103  16.620000  195.500000    ...              3   \n",
       "2  243.400000       110  10.300000  121.200000    ...              5   \n",
       "3  299.400000        88   5.260000   61.900000    ...              7   \n",
       "4  166.700000       122  12.610000  148.300000    ...              3   \n",
       "\n",
       "  Intl Charge  Intl Mins Night Calls Night Charge  Night Mins     Phone State  \\\n",
       "0    2.700000  10.000000          91    11.010000  244.700000  382-4657    KS   \n",
       "1    3.700000  13.700000         103    11.450000  254.400000  371-7191    OH   \n",
       "2    3.290000  12.200000         104     7.320000  162.600000  358-1921    NJ   \n",
       "3    1.780000   6.600000          89     8.860000  196.900000  375-9999    OH   \n",
       "4    2.730000  10.100000         121     8.410000  186.900000  330-6626    OK   \n",
       "\n",
       "  VMail Message VMail Plan  \n",
       "0            25        yes  \n",
       "1            26        yes  \n",
       "2             0         no  \n",
       "3             0         no  \n",
       "4             0         no  \n",
       "\n",
       "[5 rows x 21 columns]"
      ]
     },
     "execution_count": 46,
     "metadata": {},
     "output_type": "execute_result"
    }
   ],
   "source": [
    "df3 = pd.DataFrame(main_dic)\n",
    "df3.head()"
   ]
  }
 ],
 "metadata": {
  "anaconda-cloud": {},
  "kernelspec": {
   "display_name": "Python [default]",
   "language": "python",
   "name": "python3"
  },
  "language_info": {
   "codemirror_mode": {
    "name": "ipython",
    "version": 3
   },
   "file_extension": ".py",
   "mimetype": "text/x-python",
   "name": "python",
   "nbconvert_exporter": "python",
   "pygments_lexer": "ipython3",
   "version": "3.5.2"
  }
 },
 "nbformat": 4,
 "nbformat_minor": 1
}
